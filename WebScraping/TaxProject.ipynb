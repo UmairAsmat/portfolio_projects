{
 "cells": [
  {
   "cell_type": "code",
   "execution_count": 1,
   "id": "1e2f6f04",
   "metadata": {},
   "outputs": [],
   "source": [
    "from selenium import webdriver\n",
    "from webdriver_manager.chrome import ChromeDriverManager\n",
    "from bs4 import BeautifulSoup\n",
    "\n",
    "url=\"https://data.gov.au/dataset/ds-dga-f1a2c3d5-98d0-46b7-8b8c-742e65c6afa7/details?q\"\n"
   ]
  },
  {
   "cell_type": "code",
   "execution_count": 2,
   "id": "54f819bd",
   "metadata": {},
   "outputs": [
    {
     "name": "stderr",
     "output_type": "stream",
     "text": [
      "C:\\Users\\UTCommander\\AppData\\Local\\Temp\\ipykernel_9576\\3299728750.py:1: DeprecationWarning: executable_path has been deprecated, please pass in a Service object\n",
      "  driver = webdriver.Chrome(ChromeDriverManager().install())\n"
     ]
    }
   ],
   "source": [
    "driver = webdriver.Chrome(ChromeDriverManager().install())\n",
    "driver.get(url)"
   ]
  },
  {
   "cell_type": "code",
   "execution_count": 3,
   "id": "74e8042a",
   "metadata": {},
   "outputs": [],
   "source": [
    "html=driver.page_source\n",
    "driver.close()"
   ]
  },
  {
   "cell_type": "code",
   "execution_count": 4,
   "id": "827a829a",
   "metadata": {},
   "outputs": [],
   "source": [
    "soup = BeautifulSoup(html)"
   ]
  },
  {
   "cell_type": "code",
   "execution_count": 5,
   "id": "1f0bd142",
   "metadata": {},
   "outputs": [
    {
     "data": {
      "text/plain": [
       "'Taxation Statistics 2019-20 | Datasets | data.gov.au - beta'"
      ]
     },
     "execution_count": 5,
     "metadata": {},
     "output_type": "execute_result"
    }
   ],
   "source": [
    "soup.title.text"
   ]
  },
  {
   "cell_type": "code",
   "execution_count": 8,
   "id": "0aa12aa5",
   "metadata": {},
   "outputs": [],
   "source": [
    "start_of_url = \"https://data.gov.au/data/dataset/\"\n",
    "#all_the_download_links=[link for link in soup.find_all(\"a\") if link[\"href\"].startswith(start_of_url)]"
   ]
  },
  {
   "cell_type": "code",
   "execution_count": 9,
   "id": "35016218",
   "metadata": {},
   "outputs": [
    {
     "data": {
      "text/plain": [
       "98"
      ]
     },
     "execution_count": 9,
     "metadata": {},
     "output_type": "execute_result"
    }
   ],
   "source": [
    "#len(all_the_download_links)"
   ]
  },
  {
   "cell_type": "code",
   "execution_count": 10,
   "id": "d39119cb",
   "metadata": {},
   "outputs": [
    {
     "data": {
      "text/plain": [
       "['https://data.gov.au/data/dataset/f1a2c3d5-98d0-46b7-8b8c-742e65c6afa7/resource/5f27fab1-6113-4022-8120-62d61ca418f5/download/taxstats2020index.xlsx',\n",
       " 'https://data.gov.au/data/dataset/f1a2c3d5-98d0-46b7-8b8c-742e65c6afa7/resource/c618d6db-5578-4c13-845c-f2f482059837/download/ts20snapshot01historicalratesofpersonalincometax.xlsx',\n",
       " 'https://data.gov.au/data/dataset/f1a2c3d5-98d0-46b7-8b8c-742e65c6afa7/resource/a665dffd-dbc2-4ad7-b0d3-0d1f55d90db7/download/ts20snapshot02historicalratesofcompanyincometax.xlsx',\n",
       " 'https://data.gov.au/data/dataset/f1a2c3d5-98d0-46b7-8b8c-742e65c6afa7/resource/61d44cdd-0965-4ce4-a5a9-2015d61a252f/download/ts20snapshot03selectedtaxationitemsbyindustry.xlsx',\n",
       " 'https://data.gov.au/data/dataset/f1a2c3d5-98d0-46b7-8b8c-742e65c6afa7/resource/2ed86e16-4716-4e51-b7d0-b95b99bc7e2e/download/ts20snapshot04allsummarytables.xlsx',\n",
       " 'https://data.gov.au/data/dataset/f1a2c3d5-98d0-46b7-8b8c-742e65c6afa7/resource/7fbad034-e1ad-43fe-a67a-893fe59be13e/download/ts20snapshot05indexofchartdata.xlsx',\n",
       " 'https://data.gov.au/data/dataset/f1a2c3d5-98d0-46b7-8b8c-742e65c6afa7/resource/bc7db385-4d84-41f4-9ece-32320b84645b/download/ts20snapshot06entitycounts.xlsx',\n",
       " 'https://data.gov.au/data/dataset/f1a2c3d5-98d0-46b7-8b8c-742e65c6afa7/resource/ef7ceecb-e6f8-441f-81bb-0a2ccf9ee69e/download/ts20snapshot07stateindividualsstatepostcodeoccupationstats.xlsx',\n",
       " 'https://data.gov.au/data/dataset/f1a2c3d5-98d0-46b7-8b8c-742e65c6afa7/resource/4701ae25-5939-4dfe-a3de-203e1a89c238/download/ts20jobkeeper01entities.xlsx',\n",
       " 'https://data.gov.au/data/dataset/f1a2c3d5-98d0-46b7-8b8c-742e65c6afa7/resource/c2309c35-b8b0-4bb5-a430-d038bb9a73d2/download/ts20jobkeeper02individuals.xlsx',\n",
       " 'https://data.gov.au/data/dataset/f1a2c3d5-98d0-46b7-8b8c-742e65c6afa7/resource/eac21d0e-8c9e-42c7-aee5-a1bab6c8d540/download/how-we-calculate-industry-benchmarks.xlsx',\n",
       " 'https://data.gov.au/data/dataset/f1a2c3d5-98d0-46b7-8b8c-742e65c6afa7/resource/6b9906c4-5aad-4ffc-8f1e-b09417e644aa/download/ts20financialratios1individuals.xlsx',\n",
       " 'https://data.gov.au/data/dataset/f1a2c3d5-98d0-46b7-8b8c-742e65c6afa7/resource/55ad46d0-9a6b-49f6-a902-8fe57509e52b/download/ts20financialratios2companies.xlsx',\n",
       " 'https://data.gov.au/data/dataset/f1a2c3d5-98d0-46b7-8b8c-742e65c6afa7/resource/77f705d5-713d-4c25-bf05-8b3fe8e57fa8/download/ts20financialratios3partnerships.xlsx',\n",
       " 'https://data.gov.au/data/dataset/f1a2c3d5-98d0-46b7-8b8c-742e65c6afa7/resource/e9d5096c-2286-4f1b-bcc9-d7b20404fe8c/download/ts20financialratios4trusts.xlsx',\n",
       " 'https://data.gov.au/data/dataset/f1a2c3d5-98d0-46b7-8b8c-742e65c6afa7/resource/e888b5f2-5339-4637-abbc-9a7450a6cee8/download/ts20financialratios5allentities.xlsx',\n",
       " 'https://data.gov.au/data/dataset/f1a2c3d5-98d0-46b7-8b8c-742e65c6afa7/resource/d2c9a567-4d41-4743-87f0-a31c59af2def/download/ts20activitystatementratios1individuals.xlsx',\n",
       " 'https://data.gov.au/data/dataset/f1a2c3d5-98d0-46b7-8b8c-742e65c6afa7/resource/37552885-345f-4b45-b2a5-91db7678c264/download/ts20activitystatementratios2companies.xlsx',\n",
       " 'https://data.gov.au/data/dataset/f1a2c3d5-98d0-46b7-8b8c-742e65c6afa7/resource/3645b7f8-bbcc-41a1-a674-8a9f0d65d07e/download/ts20activitystatementratios3partnerships.xlsx',\n",
       " 'https://data.gov.au/data/dataset/f1a2c3d5-98d0-46b7-8b8c-742e65c6afa7/resource/b21cca54-20aa-47bf-ae82-20ed0f7665e6/download/ts20activitystatementratios4trusts.xlsx',\n",
       " 'https://data.gov.au/data/dataset/f1a2c3d5-98d0-46b7-8b8c-742e65c6afa7/resource/9847b735-ffad-43b1-bbf1-2f5de7412a08/download/ts20activitystatementratios5allentities.xlsx',\n",
       " 'https://data.gov.au/data/dataset/f1a2c3d5-98d0-46b7-8b8c-742e65c6afa7/resource/6e4f9b0f-8183-4659-bbee-e02c4e8876e0/download/ts20individual01byyear.xlsx',\n",
       " 'https://data.gov.au/data/dataset/f1a2c3d5-98d0-46b7-8b8c-742e65c6afa7/resource/1a685846-d384-4366-865d-36aa14af2b5e/download/ts20individual02lodgmentmethodsextaxablestatusstateageyear.xlsx',\n",
       " 'https://data.gov.au/data/dataset/f1a2c3d5-98d0-46b7-8b8c-742e65c6afa7/resource/46e23a63-4a18-450d-a158-cdc691543e46/download/ts20individual03sextaxablestatusagerangetaxableincomerange.xlsx',\n",
       " 'https://data.gov.au/data/dataset/f1a2c3d5-98d0-46b7-8b8c-742e65c6afa7/resource/3dfbe960-0df8-4ab7-a27a-140ef0556ea0/download/ts20individual04sextaxablestatusstatetaxableincomerange.xlsx',\n",
       " 'https://data.gov.au/data/dataset/f1a2c3d5-98d0-46b7-8b8c-742e65c6afa7/resource/76e2afce-1667-4575-9a92-056f566f8b1c/download/ts20individual05sexstateterritorybroadindustry.xlsx',\n",
       " 'https://data.gov.au/data/dataset/f1a2c3d5-98d0-46b7-8b8c-742e65c6afa7/resource/3e49a39a-5b01-44b7-b67e-ce056ef6548c/download/ts20individual06taxablestatusstateterritorypostcode.xlsx',\n",
       " 'https://data.gov.au/data/dataset/f1a2c3d5-98d0-46b7-8b8c-742e65c6afa7/resource/7b29c1b2-ee2f-469e-b3bb-87fa1a879e99/download/ts20individual07statepostcodetaxableincomerangeagerangeoccupation.xlsx',\n",
       " 'https://data.gov.au/data/dataset/f1a2c3d5-98d0-46b7-8b8c-742e65c6afa7/resource/50bad443-39eb-4f60-bce5-d2978fc61e1b/download/ts20individual08medianaveragetaxableincomestateterritorypostcode.xlsx',\n",
       " 'https://data.gov.au/data/dataset/f1a2c3d5-98d0-46b7-8b8c-742e65c6afa7/resource/0ea4e23c-4462-4fe2-a4b7-339d129c5ede/download/ts20individual09broadindustryfineindustry.xlsx',\n",
       " 'https://data.gov.au/data/dataset/f1a2c3d5-98d0-46b7-8b8c-742e65c6afa7/resource/48282266-e80a-419f-9e81-121ba737de9f/download/ts20individual10taxableincometotalincome.xlsx',\n",
       " 'https://data.gov.au/data/dataset/f1a2c3d5-98d0-46b7-8b8c-742e65c6afa7/resource/eb23b10b-c3f4-42c3-87e8-85ac23b7e09b/download/ts20individual11residencylodgmentmethod.xlsx',\n",
       " 'https://data.gov.au/data/dataset/f1a2c3d5-98d0-46b7-8b8c-742e65c6afa7/resource/9f599548-1dc7-4fed-9be1-1a23a160be1a/download/ts20individual12taxablestatusresidencytaxableincome.xlsx',\n",
       " 'https://data.gov.au/data/dataset/f1a2c3d5-98d0-46b7-8b8c-742e65c6afa7/resource/f4ff1a8b-44ca-4918-a1a5-3405e4e6f81f/download/ts20individual13sexageresidencytaxassessmentrange.xlsx',\n",
       " 'https://data.gov.au/data/dataset/f1a2c3d5-98d0-46b7-8b8c-742e65c6afa7/resource/7314db1e-fa26-41e6-95e8-a709aae130f4/download/ts20individual14occupationsextaxableincomerange.xlsx',\n",
       " 'https://data.gov.au/data/dataset/f1a2c3d5-98d0-46b7-8b8c-742e65c6afa7/resource/fec6d389-8a11-41aa-b5d8-1e30dacdbf8a/download/ts20individual15occupationsex.xlsx',\n",
       " 'https://data.gov.au/data/dataset/f1a2c3d5-98d0-46b7-8b8c-742e65c6afa7/resource/fea88652-c21c-489b-8336-35aa8e3ba2a1/download/ts20individual16percentiledistributionontaxableincomebysex.xlsx',\n",
       " 'https://data.gov.au/data/dataset/f1a2c3d5-98d0-46b7-8b8c-742e65c6afa7/resource/4769deec-0c6b-4d1c-b59d-dec0be7a8323/download/ts20individual17withtotalbusincomebysexstateagetaxableincome.xlsx',\n",
       " 'https://data.gov.au/data/dataset/f1a2c3d5-98d0-46b7-8b8c-742e65c6afa7/resource/28a861c3-4a42-491a-88b3-8be39881c0c4/download/ts20individual18deductionclaimedstateoccupationgender.xlsx',\n",
       " 'https://data.gov.au/data/dataset/f1a2c3d5-98d0-46b7-8b8c-742e65c6afa7/resource/09180687-b83d-42dd-883a-5ffeb019cd0a/download/ts20individual19onehundredpeople.xlsx',\n",
       " 'https://data.gov.au/data/dataset/f1a2c3d5-98d0-46b7-8b8c-742e65c6afa7/resource/860c0bd8-d472-4214-9995-41ea323419d1/download/ts20individual20contributionstoaprafundsbyyear.xlsx',\n",
       " 'https://data.gov.au/data/dataset/f1a2c3d5-98d0-46b7-8b8c-742e65c6afa7/resource/64d7ef41-2bfa-4064-b307-48bf29622241/download/ts20individual21contributionstosmsfsbyyear.xlsx',\n",
       " 'https://data.gov.au/data/dataset/f1a2c3d5-98d0-46b7-8b8c-742e65c6afa7/resource/bc20c99a-a97d-4422-b308-9612da5a1777/download/ts20individual22contributionsbytotalaccountbalancetaxableincomeage.xlsx',\n",
       " 'https://data.gov.au/data/dataset/f1a2c3d5-98d0-46b7-8b8c-742e65c6afa7/resource/f6b5905c-2bd8-4524-9218-ac11407e33b9/download/ts20individual23contributionsbyagesextaxableincome.xlsx',\n",
       " 'https://data.gov.au/data/dataset/f1a2c3d5-98d0-46b7-8b8c-742e65c6afa7/resource/de020ccd-ce5a-425a-a9b8-f230a929b131/download/ts20individual24contributionsbystatesexage.xlsx',\n",
       " 'https://data.gov.au/data/dataset/f1a2c3d5-98d0-46b7-8b8c-742e65c6afa7/resource/e363e6d5-8241-43d8-ba4a-44113f4a7911/download/ts20individual25countaveragemedianbypostcode.csv',\n",
       " 'https://data.gov.au/data/dataset/f1a2c3d5-98d0-46b7-8b8c-742e65c6afa7/resource/be8b7089-6dcb-48b3-8f61-3233f665b958/download/ts20individual26rentalpropertyschedules.xlsx',\n",
       " 'https://data.gov.au/data/dataset/f1a2c3d5-98d0-46b7-8b8c-742e65c6afa7/resource/ae940128-c5bf-40c0-b80d-90681e9a5945/download/ts20individual27rentalpropertyinterestsbytxblincmstateterritoryageyear.xlsx',\n",
       " 'https://data.gov.au/data/dataset/f1a2c3d5-98d0-46b7-8b8c-742e65c6afa7/resource/f26058df-e40f-4cde-93e6-5462badbaac6/download/variables-in-2019-20-sample-file.xlsx',\n",
       " 'https://data.gov.au/data/dataset/f1a2c3d5-98d0-46b7-8b8c-742e65c6afa7/resource/c0d316b2-cfe8-47f7-a50e-eadccace29a0/download/ts20company01selecteditemsbyyear.xlsx',\n",
       " 'https://data.gov.au/data/dataset/f1a2c3d5-98d0-46b7-8b8c-742e65c6afa7/resource/c3673987-0572-4202-a684-2e832ee8a821/download/ts20company02nettaxandcompanytype.xlsx',\n",
       " 'https://data.gov.au/data/dataset/f1a2c3d5-98d0-46b7-8b8c-742e65c6afa7/resource/015cb627-e9e6-45bb-9e89-63acf79d685a/download/ts20company03taxableincometaxablestatusresidencystatuscompanytype.xlsx',\n",
       " 'https://data.gov.au/data/dataset/f1a2c3d5-98d0-46b7-8b8c-742e65c6afa7/resource/dca79801-03b9-4339-932b-e0881391113d/download/ts20company04industry.xlsx',\n",
       " 'https://data.gov.au/data/dataset/f1a2c3d5-98d0-46b7-8b8c-742e65c6afa7/resource/822ac903-bfe1-4d35-90d8-2f808d36facd/download/ts20company05keyitembyindustrybyyear.xlsx',\n",
       " 'https://data.gov.au/data/dataset/f1a2c3d5-98d0-46b7-8b8c-742e65c6afa7/resource/a7262038-745f-4ba8-904e-9f80cbbbab14/download/ts20company06financialratioscompanysizetaxablestatusprofitbroadindustry.xlsx',\n",
       " 'https://data.gov.au/data/dataset/f1a2c3d5-98d0-46b7-8b8c-742e65c6afa7/resource/6351f0f6-28a2-4a5e-8737-c4457bae255f/download/ts20company07taxablestatusresidencystatuscompanytypecompanysize.xlsx',\n",
       " 'https://data.gov.au/data/dataset/f1a2c3d5-98d0-46b7-8b8c-742e65c6afa7/resource/54495529-9450-417e-a7ae-f5326bc11151/download/ts20company08internationalrelatedpartydealingsmultiyear.xlsx',\n",
       " 'https://data.gov.au/data/dataset/f1a2c3d5-98d0-46b7-8b8c-742e65c6afa7/resource/c563d6ea-794a-4989-8bdf-5728f551ae23/download/ts20company09internationalrevenueexpenditure.xlsx',\n",
       " 'https://data.gov.au/data/dataset/f1a2c3d5-98d0-46b7-8b8c-742e65c6afa7/resource/d2fff1be-5df6-4f21-bbc4-00bdb60bc509/download/ts20fund01aprasbyyear.xlsx',\n",
       " 'https://data.gov.au/data/dataset/f1a2c3d5-98d0-46b7-8b8c-742e65c6afa7/resource/0b139536-ffae-4b22-b515-555cef6d30c4/download/ts20fund02smsfbyyear.xlsx',\n",
       " 'https://data.gov.au/data/dataset/f1a2c3d5-98d0-46b7-8b8c-742e65c6afa7/resource/e1bc59e8-2cb9-42d3-b0e0-2622cfb1b35d/download/ts20fund03taxableincome.xlsx',\n",
       " 'https://data.gov.au/data/dataset/f1a2c3d5-98d0-46b7-8b8c-742e65c6afa7/resource/49ec5198-aedb-4415-8ede-2dce48a7f951/download/ts20fund04totalincome.xlsx',\n",
       " 'https://data.gov.au/data/dataset/f1a2c3d5-98d0-46b7-8b8c-742e65c6afa7/resource/d58afda1-9a8a-474d-8ea4-398d38c62e8f/download/ts20partnerships01byyear.xlsx',\n",
       " 'https://data.gov.au/data/dataset/f1a2c3d5-98d0-46b7-8b8c-742e65c6afa7/resource/4e95a594-2aa7-400d-b660-194853d2be6b/download/ts20partnerships02netincome.xlsx',\n",
       " 'https://data.gov.au/data/dataset/f1a2c3d5-98d0-46b7-8b8c-742e65c6afa7/resource/24948467-152f-4f66-809f-68ebcb7b1ed4/download/ts20partnerships03industry.xlsx',\n",
       " 'https://data.gov.au/data/dataset/f1a2c3d5-98d0-46b7-8b8c-742e65c6afa7/resource/1c6f4b96-00b9-4e0a-841c-21c3ceb2bff5/download/ts20partnerships04sizeindustry.xlsx',\n",
       " 'https://data.gov.au/data/dataset/f1a2c3d5-98d0-46b7-8b8c-742e65c6afa7/resource/bdfe7bff-0b31-42ea-8f8b-85878ce2aa80/download/ts20trusts01byyear.xlsx',\n",
       " 'https://data.gov.au/data/dataset/f1a2c3d5-98d0-46b7-8b8c-742e65c6afa7/resource/07fc508b-f704-4b01-8246-a4bbf48c594f/download/ts20trusts02netincomerange.xlsx',\n",
       " 'https://data.gov.au/data/dataset/f1a2c3d5-98d0-46b7-8b8c-742e65c6afa7/resource/792d639f-02f9-4699-842f-9e84c0505601/download/ts20trusts03industry.xlsx',\n",
       " 'https://data.gov.au/data/dataset/f1a2c3d5-98d0-46b7-8b8c-742e65c6afa7/resource/c5d97cd2-ef6c-422d-be49-eb51a9775dd6/download/ts20trusts04truststype.xlsx',\n",
       " 'https://data.gov.au/data/dataset/f1a2c3d5-98d0-46b7-8b8c-742e65c6afa7/resource/ab3e12f5-ccf8-4fa6-a998-780298e32b3c/download/ts20trusts05sizeindustry.xlsx',\n",
       " 'https://data.gov.au/data/dataset/f1a2c3d5-98d0-46b7-8b8c-742e65c6afa7/resource/9b753d20-1097-4063-86dd-baa66216c053/download/ts20cgt01selecteditemsmultiyearbyentity.xlsx',\n",
       " 'https://data.gov.au/data/dataset/f1a2c3d5-98d0-46b7-8b8c-742e65c6afa7/resource/d21e5cf0-c71d-4895-9245-f06092bc0861/download/ts20cgt02netcapitalgainsbyentitytaxstatusgains.xlsx',\n",
       " 'https://data.gov.au/data/dataset/f1a2c3d5-98d0-46b7-8b8c-742e65c6afa7/resource/3296ba8c-92c7-4d78-9bd9-58e067e61cc5/download/ts20gst01gstwetlctbyyear.xlsx',\n",
       " 'https://data.gov.au/data/dataset/f1a2c3d5-98d0-46b7-8b8c-742e65c6afa7/resource/b092bf09-97f4-4b48-941a-436a486f41d4/download/ts20gst02netgstamountbyyear.xlsx',\n",
       " 'https://data.gov.au/data/dataset/f1a2c3d5-98d0-46b7-8b8c-742e65c6afa7/resource/21c4c5c4-91c2-4df9-a50b-ddfcde416268/download/ts20gst03wetlctbyrangeofliability.xlsx',\n",
       " 'https://data.gov.au/data/dataset/f1a2c3d5-98d0-46b7-8b8c-742e65c6afa7/resource/f3c5bdea-cdd6-4dae-ba05-63f9d5fbc33f/download/ts20gst04byindustry.xlsx',\n",
       " 'https://data.gov.au/data/dataset/f1a2c3d5-98d0-46b7-8b8c-742e65c6afa7/resource/f13d54be-f01b-4416-96eb-d4b8c1f2514c/download/ts20gst05prrtbyyear.xlsx',\n",
       " 'https://data.gov.au/data/dataset/f1a2c3d5-98d0-46b7-8b8c-742e65c6afa7/resource/536cb4e7-d2fe-441b-97ed-75226e930fe0/download/ts20fbt01selecteditemsbyyear.xlsx',\n",
       " 'https://data.gov.au/data/dataset/f1a2c3d5-98d0-46b7-8b8c-742e65c6afa7/resource/0c6b98ba-a43f-45a4-a98a-9853bc3aff6c/download/ts20fbt02selecteditemsbyindustrytaxablestatus.xlsx',\n",
       " 'https://data.gov.au/data/dataset/f1a2c3d5-98d0-46b7-8b8c-742e65c6afa7/resource/24f16ffb-0e97-4ad0-873a-10c3ba67d0e1/download/ts20fbt03selecteditemsbyrangesoffbt.xlsx',\n",
       " 'https://data.gov.au/data/dataset/f1a2c3d5-98d0-46b7-8b8c-742e65c6afa7/resource/ca43382a-f64e-4cc4-be67-8e1ebad9439d/download/ts20excise01liabilitiesbyyear.xlsx',\n",
       " 'https://data.gov.au/data/dataset/f1a2c3d5-98d0-46b7-8b8c-742e65c6afa7/resource/bffcbc98-8cdb-4263-bc48-46f66a7a9362/download/ts20excise02monthlybeerexcisebyyear.xlsx',\n",
       " 'https://data.gov.au/data/dataset/f1a2c3d5-98d0-46b7-8b8c-742e65c6afa7/resource/c9850090-9776-40d8-9e82-a5367054b5ee/download/ts20excise03beerclearancesbyyear.xlsx',\n",
       " 'https://data.gov.au/data/dataset/f1a2c3d5-98d0-46b7-8b8c-742e65c6afa7/resource/dcb9052f-a521-4b0c-a622-d2fb8ffffdf8/download/ts20excise04ftcbyindustryyear.xlsx',\n",
       " 'https://data.gov.au/data/dataset/f1a2c3d5-98d0-46b7-8b8c-742e65c6afa7/resource/091df1ce-e92b-467e-a284-6b244f12a806/download/ts20excise05psobyyear.xlsx',\n",
       " 'https://data.gov.au/data/dataset/f1a2c3d5-98d0-46b7-8b8c-742e65c6afa7/resource/501e3dd2-9bf0-47f2-b9d0-3588c4cb299a/download/ts20excise06historicalexciserates.xlsx',\n",
       " 'https://data.gov.au/data/dataset/f1a2c3d5-98d0-46b7-8b8c-742e65c6afa7/resource/e4592905-3471-46ff-a5ea-42a6698f9e93/download/ts20payg01payasyougowitholding.xlsx',\n",
       " 'https://data.gov.au/data/dataset/f1a2c3d5-98d0-46b7-8b8c-742e65c6afa7/resource/8e6788b3-2df9-4e87-aa71-b7a18e13dcc4/download/ts20payg02payasyougoinstalments.xlsx',\n",
       " 'https://data.gov.au/data/dataset/f1a2c3d5-98d0-46b7-8b8c-742e65c6afa7/resource/600ada88-63f2-4a5d-bbd2-e3df5e27886d/download/ts20coc01allformsbyincomeyear.xlsx',\n",
       " 'https://data.gov.au/data/dataset/f1a2c3d5-98d0-46b7-8b8c-742e65c6afa7/resource/4e72f7e8-08a8-498d-9de7-4559645b8eaa/download/ts20coc02lodgmentmethodbusinessincome.xlsx',\n",
       " 'https://data.gov.au/data/dataset/f1a2c3d5-98d0-46b7-8b8c-742e65c6afa7/resource/a4956367-4c07-4752-a559-f04d90b349f0/download/ts20coc03fbtandbasstatements.xlsx',\n",
       " 'https://data.gov.au/data/dataset/f1a2c3d5-98d0-46b7-8b8c-742e65c6afa7/resource/85024613-682f-4318-946c-57694c193b4b/download/ts20charities01refundablefrankingcredits.xlsx',\n",
       " 'https://data.gov.au/data/dataset/f1a2c3d5-98d0-46b7-8b8c-742e65c6afa7/resource/7e9753d0-7eb7-4b20-8e06-4bd40a2a1180/download/ts20charities02employeesoftaxconcessioncharities.xlsx',\n",
       " 'https://data.gov.au/data/dataset/f1a2c3d5-98d0-46b7-8b8c-742e65c6afa7/resource/e9ae306e-cca8-4d24-a530-54080e305d74/download/ts20charities03deductiblegiftrecipients.xlsx',\n",
       " 'https://data.gov.au/data/dataset/f1a2c3d5-98d0-46b7-8b8c-742e65c6afa7/resource/f19bba2f-c9e1-426b-a7b8-85bd38d20190/download/ts20charities04privatepublicancillaryfunds.xlsx',\n",
       " 'https://data.gov.au/data/dataset/f1a2c3d5-98d0-46b7-8b8c-742e65c6afa7',\n",
       " 'https://data.gov.au/data/dataset/f1a2c3d5-98d0-46b7-8b8c-742e65c6afa7']"
      ]
     },
     "execution_count": 10,
     "metadata": {},
     "output_type": "execute_result"
    }
   ],
   "source": [
    "all_the_download_links=[link [\"href\"] for link in soup.find_all(\"a\") if link[\"href\"].startswith(start_of_url)]\n",
    "all_the_download_links"
   ]
  },
  {
   "cell_type": "code",
   "execution_count": 12,
   "id": "06c011c0",
   "metadata": {},
   "outputs": [
    {
     "data": {
      "text/plain": [
       "'.xlsx'"
      ]
     },
     "execution_count": 12,
     "metadata": {},
     "output_type": "execute_result"
    }
   ],
   "source": [
    "all_the_download_links[0][-5:]"
   ]
  },
  {
   "cell_type": "code",
   "execution_count": 15,
   "id": "649ce0f5",
   "metadata": {},
   "outputs": [
    {
     "data": {
      "text/plain": [
       "True"
      ]
     },
     "execution_count": 15,
     "metadata": {},
     "output_type": "execute_result"
    }
   ],
   "source": [
    "all_the_download_links[0][-5:]==\".xlsx\""
   ]
  },
  {
   "cell_type": "code",
   "execution_count": null,
   "id": "6a0f916d",
   "metadata": {},
   "outputs": [],
   "source": []
  }
 ],
 "metadata": {
  "kernelspec": {
   "display_name": "Python 3 (ipykernel)",
   "language": "python",
   "name": "python3"
  },
  "language_info": {
   "codemirror_mode": {
    "name": "ipython",
    "version": 3
   },
   "file_extension": ".py",
   "mimetype": "text/x-python",
   "name": "python",
   "nbconvert_exporter": "python",
   "pygments_lexer": "ipython3",
   "version": "3.9.12"
  }
 },
 "nbformat": 4,
 "nbformat_minor": 5
}
