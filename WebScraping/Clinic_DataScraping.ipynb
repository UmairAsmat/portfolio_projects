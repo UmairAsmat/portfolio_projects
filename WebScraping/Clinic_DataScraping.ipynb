{
 "cells": [
  {
   "cell_type": "code",
   "execution_count": 1,
   "id": "78b8481a",
   "metadata": {},
   "outputs": [],
   "source": [
    "import requests\n",
    "from bs4 import BeautifulSoup\n",
    "import html.parser"
   ]
  },
  {
   "cell_type": "code",
   "execution_count": 4,
   "id": "dbe0873f",
   "metadata": {},
   "outputs": [],
   "source": [
    "#This funtion will give us the clinic name\n",
    "def get_clinic_name(clinic_id):\n",
    "    url         = f'https://{clinic_id}.portal.athenahealth.com/'\n",
    "    response    = requests.get(url)\n",
    "    html        = response.text\n",
    "    soup        = BeautifulSoup(html, 'html.parser')\n",
    "    clinic_name = soup.find_all('h1')[-1].text.strip()\n",
    "    return clinic_name"
   ]
  },
  {
   "cell_type": "code",
   "execution_count": 3,
   "id": "eeca36d6",
   "metadata": {},
   "outputs": [],
   "source": [
    "#now we will use f string to get variuse webpages clinical IDs  e.g. 12695,12698,9512"
   ]
  },
  {
   "cell_type": "code",
   "execution_count": 5,
   "id": "64609e2a",
   "metadata": {},
   "outputs": [],
   "source": [
    "#clinic_id=1\n",
    "#f'https://{clinic_id}.portal.athenahealth.com/"
   ]
  },
  {
   "cell_type": "code",
   "execution_count": 8,
   "id": "6896b86a",
   "metadata": {},
   "outputs": [
    {
     "data": {
      "text/plain": [
       "'Samaritan Health Ministries'"
      ]
     },
     "execution_count": 8,
     "metadata": {},
     "output_type": "execute_result"
    }
   ],
   "source": [
    "get_clinic_name(12600)"
   ]
  },
  {
   "cell_type": "code",
   "execution_count": 9,
   "id": "ff6b9b7b",
   "metadata": {},
   "outputs": [],
   "source": [
    "#So there are tousands of IDs and all have diffrent resposnses some dont exist and some have various errors"
   ]
  },
  {
   "cell_type": "code",
   "execution_count": 11,
   "id": "3261d9dc",
   "metadata": {},
   "outputs": [],
   "source": [
    "# Now we try to make exception Class and/or forloop"
   ]
  },
  {
   "cell_type": "code",
   "execution_count": 12,
   "id": "10811fad",
   "metadata": {},
   "outputs": [],
   "source": [
    "start  = 12690\n",
    "end    = 12710"
   ]
  },
  {
   "cell_type": "code",
   "execution_count": 1,
   "id": "6d6afc0a",
   "metadata": {},
   "outputs": [],
   "source": [
    "# loop rang is upto a last number but not included so we add +1\n",
    "# Now best way to collect information of all IDs to put is into a Dictionary and put each dictionary into a list\n",
    "\n",
    "\n",
    "# for clinic_id in range(start,end+1): \n",
    "#    print(clinic_id)\n",
    "    "
   ]
  },
  {
   "cell_type": "code",
   "execution_count": 2,
   "id": "4014bbf4",
   "metadata": {},
   "outputs": [],
   "source": [
    "#master_list  = []\n",
    "\n",
    "#for clinic_id in range(start, end + 1):\n",
    "#    data_dict = {}\n",
    "#    data_dict['clinic_id'] = clinic_id\n",
    "#    data_dict['clinic_name'] = get_clinic_name(clinic_id)\n",
    "#    master_list.append(data_dict)\n",
    "#   print(clinic_id)\n"
   ]
  },
  {
   "cell_type": "code",
   "execution_count": null,
   "id": "ae4f17dc",
   "metadata": {},
   "outputs": [],
   "source": [
    "master_list  = []\n",
    "\n",
    "for clinic_id in range(start, end + 1):\n",
    "    data_dict = {}\n",
    "    data_dict['clinic_id'] = clinic_id\n",
    "    data_dict['clinic_name'] = get_clinic_name(clinic_id)\n",
    "    if data_dict['clinic_name'] != 'Payment Confirmation' and data_dict['clinic_name'] != \"Sorry, we can't find that practice. Make sure you typed the right address.\":\n",
    "        \n",
    "        master_list.append(data_dict)\n",
    "   print(clinic_id)\n"
   ]
  },
  {
   "cell_type": "code",
   "execution_count": 19,
   "id": "d6623b9c",
   "metadata": {},
   "outputs": [
    {
     "data": {
      "text/plain": [
       "[{'clinic_id': 12690, 'clinic_name': 'Payment Confirmation'},\n",
       " {'clinic_id': 12691, 'clinic_name': 'Ergomedica'},\n",
       " {'clinic_id': 12692,\n",
       "  'clinic_name': \"Sorry, we can't find that practice. Make sure you typed the right address.\"},\n",
       " {'clinic_id': 12693, 'clinic_name': 'Altamonte Family Practice'},\n",
       " {'clinic_id': 12694, 'clinic_name': 'Open Health Care Clinic'},\n",
       " {'clinic_id': 12695, 'clinic_name': 'Dr. Richard Handelsman'},\n",
       " {'clinic_id': 12696, 'clinic_name': \"Women's CenterforIntegrative Health\"},\n",
       " {'clinic_id': 12697, 'clinic_name': 'Eastern Urological Associates'},\n",
       " {'clinic_id': 12698,\n",
       "  'clinic_name': \"Sorry, we can't find that practice. Make sure you typed the right address.\"},\n",
       " {'clinic_id': 12699, 'clinic_name': 'Payment Confirmation'},\n",
       " {'clinic_id': 12700, 'clinic_name': 'Payment Confirmation'},\n",
       " {'clinic_id': 12701, 'clinic_name': 'Payment Confirmation'},\n",
       " {'clinic_id': 12702, 'clinic_name': 'Chand Rohatgi MD'},\n",
       " {'clinic_id': 12703, 'clinic_name': ''},\n",
       " {'clinic_id': 12704, 'clinic_name': 'Volunteer Healthcare Clinic'},\n",
       " {'clinic_id': 12705, 'clinic_name': 'Christ Clinic'},\n",
       " {'clinic_id': 12706, 'clinic_name': 'Olga Joukovski, MD, PA'},\n",
       " {'clinic_id': 12707, 'clinic_name': 'Restore Health Clinic'},\n",
       " {'clinic_id': 12708,\n",
       "  'clinic_name': 'STUART L. SILVERMAN, M.D., A MEDICAL CORPORATION'},\n",
       " {'clinic_id': 12709, 'clinic_name': 'George E. Weems Clinics'},\n",
       " {'clinic_id': 12710,\n",
       "  'clinic_name': \"Sorry, we can't find that practice. Make sure you typed the right address.\"}]"
      ]
     },
     "execution_count": 19,
     "metadata": {},
     "output_type": "execute_result"
    }
   ],
   "source": [
    "master_list # Here we can see now some if not all output h1s  "
   ]
  },
  {
   "cell_type": "code",
   "execution_count": 20,
   "id": "94224c20",
   "metadata": {},
   "outputs": [],
   "source": [
    "# now we put our list  (wich is in dictionay) in Data Fram"
   ]
  },
  {
   "cell_type": "code",
   "execution_count": 21,
   "id": "491c6534",
   "metadata": {},
   "outputs": [],
   "source": [
    "import pandas as pd"
   ]
  },
  {
   "cell_type": "code",
   "execution_count": 24,
   "id": "c4171ed7",
   "metadata": {},
   "outputs": [
    {
     "data": {
      "text/html": [
       "<div>\n",
       "<style scoped>\n",
       "    .dataframe tbody tr th:only-of-type {\n",
       "        vertical-align: middle;\n",
       "    }\n",
       "\n",
       "    .dataframe tbody tr th {\n",
       "        vertical-align: top;\n",
       "    }\n",
       "\n",
       "    .dataframe thead th {\n",
       "        text-align: right;\n",
       "    }\n",
       "</style>\n",
       "<table border=\"1\" class=\"dataframe\">\n",
       "  <thead>\n",
       "    <tr style=\"text-align: right;\">\n",
       "      <th></th>\n",
       "      <th>clinic_id</th>\n",
       "      <th>clinic_name</th>\n",
       "    </tr>\n",
       "  </thead>\n",
       "  <tbody>\n",
       "    <tr>\n",
       "      <th>0</th>\n",
       "      <td>12690</td>\n",
       "      <td>Payment Confirmation</td>\n",
       "    </tr>\n",
       "    <tr>\n",
       "      <th>1</th>\n",
       "      <td>12691</td>\n",
       "      <td>Ergomedica</td>\n",
       "    </tr>\n",
       "    <tr>\n",
       "      <th>2</th>\n",
       "      <td>12692</td>\n",
       "      <td>Sorry, we can't find that practice. Make sure ...</td>\n",
       "    </tr>\n",
       "    <tr>\n",
       "      <th>3</th>\n",
       "      <td>12693</td>\n",
       "      <td>Altamonte Family Practice</td>\n",
       "    </tr>\n",
       "    <tr>\n",
       "      <th>4</th>\n",
       "      <td>12694</td>\n",
       "      <td>Open Health Care Clinic</td>\n",
       "    </tr>\n",
       "    <tr>\n",
       "      <th>5</th>\n",
       "      <td>12695</td>\n",
       "      <td>Dr. Richard Handelsman</td>\n",
       "    </tr>\n",
       "    <tr>\n",
       "      <th>6</th>\n",
       "      <td>12696</td>\n",
       "      <td>Women's CenterforIntegrative Health</td>\n",
       "    </tr>\n",
       "    <tr>\n",
       "      <th>7</th>\n",
       "      <td>12697</td>\n",
       "      <td>Eastern Urological Associates</td>\n",
       "    </tr>\n",
       "    <tr>\n",
       "      <th>8</th>\n",
       "      <td>12698</td>\n",
       "      <td>Sorry, we can't find that practice. Make sure ...</td>\n",
       "    </tr>\n",
       "    <tr>\n",
       "      <th>9</th>\n",
       "      <td>12699</td>\n",
       "      <td>Payment Confirmation</td>\n",
       "    </tr>\n",
       "    <tr>\n",
       "      <th>10</th>\n",
       "      <td>12700</td>\n",
       "      <td>Payment Confirmation</td>\n",
       "    </tr>\n",
       "    <tr>\n",
       "      <th>11</th>\n",
       "      <td>12701</td>\n",
       "      <td>Payment Confirmation</td>\n",
       "    </tr>\n",
       "    <tr>\n",
       "      <th>12</th>\n",
       "      <td>12702</td>\n",
       "      <td>Chand Rohatgi MD</td>\n",
       "    </tr>\n",
       "    <tr>\n",
       "      <th>13</th>\n",
       "      <td>12703</td>\n",
       "      <td></td>\n",
       "    </tr>\n",
       "    <tr>\n",
       "      <th>14</th>\n",
       "      <td>12704</td>\n",
       "      <td>Volunteer Healthcare Clinic</td>\n",
       "    </tr>\n",
       "    <tr>\n",
       "      <th>15</th>\n",
       "      <td>12705</td>\n",
       "      <td>Christ Clinic</td>\n",
       "    </tr>\n",
       "    <tr>\n",
       "      <th>16</th>\n",
       "      <td>12706</td>\n",
       "      <td>Olga Joukovski, MD, PA</td>\n",
       "    </tr>\n",
       "    <tr>\n",
       "      <th>17</th>\n",
       "      <td>12707</td>\n",
       "      <td>Restore Health Clinic</td>\n",
       "    </tr>\n",
       "    <tr>\n",
       "      <th>18</th>\n",
       "      <td>12708</td>\n",
       "      <td>STUART L. SILVERMAN, M.D., A MEDICAL CORPORATION</td>\n",
       "    </tr>\n",
       "    <tr>\n",
       "      <th>19</th>\n",
       "      <td>12709</td>\n",
       "      <td>George E. Weems Clinics</td>\n",
       "    </tr>\n",
       "    <tr>\n",
       "      <th>20</th>\n",
       "      <td>12710</td>\n",
       "      <td>Sorry, we can't find that practice. Make sure ...</td>\n",
       "    </tr>\n",
       "  </tbody>\n",
       "</table>\n",
       "</div>"
      ],
      "text/plain": [
       "    clinic_id                                        clinic_name\n",
       "0       12690                               Payment Confirmation\n",
       "1       12691                                         Ergomedica\n",
       "2       12692  Sorry, we can't find that practice. Make sure ...\n",
       "3       12693                          Altamonte Family Practice\n",
       "4       12694                            Open Health Care Clinic\n",
       "5       12695                             Dr. Richard Handelsman\n",
       "6       12696                Women's CenterforIntegrative Health\n",
       "7       12697                      Eastern Urological Associates\n",
       "8       12698  Sorry, we can't find that practice. Make sure ...\n",
       "9       12699                               Payment Confirmation\n",
       "10      12700                               Payment Confirmation\n",
       "11      12701                               Payment Confirmation\n",
       "12      12702                                   Chand Rohatgi MD\n",
       "13      12703                                                   \n",
       "14      12704                        Volunteer Healthcare Clinic\n",
       "15      12705                                      Christ Clinic\n",
       "16      12706                             Olga Joukovski, MD, PA\n",
       "17      12707                              Restore Health Clinic\n",
       "18      12708   STUART L. SILVERMAN, M.D., A MEDICAL CORPORATION\n",
       "19      12709                            George E. Weems Clinics\n",
       "20      12710  Sorry, we can't find that practice. Make sure ..."
      ]
     },
     "execution_count": 24,
     "metadata": {},
     "output_type": "execute_result"
    }
   ],
   "source": [
    "df= pd.DataFrame(master_list)\n",
    "df"
   ]
  },
  {
   "cell_type": "code",
   "execution_count": 25,
   "id": "608b8152",
   "metadata": {},
   "outputs": [],
   "source": [
    "df.to_csv('clinic_data.csv')"
   ]
  }
 ],
 "metadata": {
  "kernelspec": {
   "display_name": "Python 3 (ipykernel)",
   "language": "python",
   "name": "python3"
  },
  "language_info": {
   "codemirror_mode": {
    "name": "ipython",
    "version": 3
   },
   "file_extension": ".py",
   "mimetype": "text/x-python",
   "name": "python",
   "nbconvert_exporter": "python",
   "pygments_lexer": "ipython3",
   "version": "3.9.12"
  }
 },
 "nbformat": 4,
 "nbformat_minor": 5
}
